{
 "cells": [
  {
   "cell_type": "markdown",
   "id": "0a2ed018",
   "metadata": {
    "papermill": {
     "duration": 0.007332,
     "end_time": "2023-06-22T23:12:47.086913",
     "exception": false,
     "start_time": "2023-06-22T23:12:47.079581",
     "status": "completed"
    },
    "tags": []
   },
   "source": [
    "\n"
   ]
  },
  {
   "cell_type": "code",
   "execution_count": 1,
   "id": "9dfcd718",
   "metadata": {
    "execution": {
     "iopub.execute_input": "2023-06-22T23:12:47.114795Z",
     "iopub.status.busy": "2023-06-22T23:12:47.114023Z",
     "iopub.status.idle": "2023-06-22T23:12:47.122655Z",
     "shell.execute_reply": "2023-06-22T23:12:47.121923Z"
    },
    "papermill": {
     "duration": 0.019012,
     "end_time": "2023-06-22T23:12:47.124556",
     "exception": false,
     "start_time": "2023-06-22T23:12:47.105544",
     "status": "completed"
    },
    "tags": []
   },
   "outputs": [],
   "source": [
    "import os\n",
    "\n",
    "os.chdir(\"../\")"
   ]
  },
  {
   "cell_type": "code",
   "execution_count": 2,
   "id": "8419f62a",
   "metadata": {
    "execution": {
     "iopub.execute_input": "2023-06-22T23:12:47.139570Z",
     "iopub.status.busy": "2023-06-22T23:12:47.138902Z",
     "iopub.status.idle": "2023-06-22T23:13:29.978931Z",
     "shell.execute_reply": "2023-06-22T23:13:29.978069Z"
    },
    "papermill": {
     "duration": 42.850709,
     "end_time": "2023-06-22T23:13:29.981781",
     "exception": false,
     "start_time": "2023-06-22T23:12:47.131072",
     "status": "completed"
    },
    "tags": []
   },
   "outputs": [],
   "source": [
    "#!pip install /kaggle/input/polars-for-student/polars-0.16.9-cp37-abi3-manylinux_2_17_x86_64.manylinux2014_x86_64.whl\n",
    "#!pip install /kaggle/input/polars-for-student/typing_extensions-4.5.0-py3-none-any.whl"
   ]
  },
  {
   "cell_type": "code",
   "execution_count": 3,
   "id": "ba27dedb",
   "metadata": {
    "_cell_guid": "b1076dfc-b9ad-4769-8c92-a6c4dae69d19",
    "_uuid": "8f2839f25d086af736a60e9eeb907d3b93b6e0e5",
    "execution": {
     "iopub.execute_input": "2023-06-22T23:13:29.997459Z",
     "iopub.status.busy": "2023-06-22T23:13:29.997060Z",
     "iopub.status.idle": "2023-06-22T23:13:34.936455Z",
     "shell.execute_reply": "2023-06-22T23:13:34.935287Z"
    },
    "papermill": {
     "duration": 4.95055,
     "end_time": "2023-06-22T23:13:34.939374",
     "exception": false,
     "start_time": "2023-06-22T23:13:29.988824",
     "status": "completed"
    },
    "tags": []
   },
   "outputs": [],
   "source": [
    "import gc\n",
    "import os\n",
    "\n",
    "# from input.utilcode.utils.constants import *\n",
    "import pandas as pd\n",
    "import numpy as np\n",
    "import warnings\n",
    "import pickle\n",
    "import polars as pl\n",
    "\n",
    "from collections import defaultdict\n",
    "from itertools import combinations\n",
    "import pyarrow as pa\n",
    "\n",
    "from xgboost import XGBClassifier\n",
    "from tsfresh.feature_extraction import feature_calculators\n",
    "\n",
    "from lightgbm import LGBMClassifier\n",
    "from lightgbm import early_stopping\n",
    "from lightgbm import log_evaluation\n",
    "\n",
    "from sklearn.model_selection import KFold\n",
    "from sklearn.metrics import roc_auc_score, f1_score\n",
    "\n",
    "\n",
    "import matplotlib.pyplot as plt\n",
    "from colorama import Fore, Back, Style"
   ]
  },
  {
   "cell_type": "code",
   "execution_count": 4,
   "id": "22f9518b",
   "metadata": {},
   "outputs": [],
   "source": [
    "from src.feature_names import I_FEATURES"
   ]
  },
  {
   "cell_type": "code",
   "execution_count": 5,
   "id": "c0adb0bb",
   "metadata": {
    "execution": {
     "iopub.execute_input": "2023-06-22T23:13:34.956660Z",
     "iopub.status.busy": "2023-06-22T23:13:34.956244Z",
     "iopub.status.idle": "2023-06-22T23:13:34.993743Z",
     "shell.execute_reply": "2023-06-22T23:13:34.992464Z"
    },
    "papermill": {
     "duration": 0.049571,
     "end_time": "2023-06-22T23:13:34.996604",
     "exception": false,
     "start_time": "2023-06-22T23:13:34.947033",
     "status": "completed"
    },
    "tags": []
   },
   "outputs": [
    {
     "name": "stdout",
     "output_type": "stream",
     "text": [
      "12\n",
      "13\n",
      "3\n"
     ]
    }
   ],
   "source": [
    "i_features = I_FEATURES\n",
    "features_use_because_of_importances = {}  # in real case this arrya would contain a list of features for each question\n",
    "for q in i_features:\n",
    "    print(q)\n",
    "    features_use_because_of_importances[q] = list(i_features[q])"
   ]
  },
  {
   "cell_type": "code",
   "execution_count": 6,
   "id": "fd5db197",
   "metadata": {},
   "outputs": [],
   "source": [
    "from src.constants import (\n",
    "    DATA_PATH,\n",
    "    DTYPES,\n",
    "    NAME_FEATURE,\n",
    "    EVENT_NAME_FEATURE,\n",
    "    FQID_LISTS,\n",
    "    TEXT_LISTS,\n",
    "    ROOM_LISTS,\n",
    "    QUESTIONS_BASE_FEATURES,\n",
    "    QUESTION_NEW_FEATURES,\n",
    "    QUESTION_NEW_FEATURES_FOLD,\n",
    "    QUESTION_NEW_FEATURES_RANDOM,\n",
    "    QUESTION_SAMPLE06,\n",
    "    QUESTIONS_NOT_TRAIN,\n",
    "    N_SPLITS,\n",
    ")\n",
    "\n",
    "from sklearn.model_selection import (\n",
    "    StratifiedKFold,\n",
    "    KFold,\n",
    "    cross_val_score,\n",
    "    cross_val_predict,\n",
    ")\n",
    "from src.preprocessing import feature_engineer_pl\n",
    "from src.params import xgb_params_by_question"
   ]
  },
  {
   "cell_type": "code",
   "execution_count": 7,
   "id": "ab874b46",
   "metadata": {
    "execution": {
     "iopub.execute_input": "2023-06-22T23:13:35.013421Z",
     "iopub.status.busy": "2023-06-22T23:13:35.012964Z",
     "iopub.status.idle": "2023-06-22T23:13:35.018095Z",
     "shell.execute_reply": "2023-06-22T23:13:35.017196Z"
    },
    "papermill": {
     "duration": 0.01584,
     "end_time": "2023-06-22T23:13:35.020034",
     "exception": false,
     "start_time": "2023-06-22T23:13:35.004194",
     "status": "completed"
    },
    "tags": []
   },
   "outputs": [],
   "source": [
    "# itinalize variabels from constants\n",
    "dtypes = DTYPES\n",
    "name_feature = NAME_FEATURE\n",
    "event_name_feature = EVENT_NAME_FEATURE\n",
    "fqid_lists = FQID_LISTS\n",
    "text_lists = TEXT_LISTS\n",
    "room_lists = ROOM_LISTS\n"
   ]
  },
  {
   "cell_type": "code",
   "execution_count": 8,
   "id": "e1ff4367",
   "metadata": {
    "execution": {
     "iopub.execute_input": "2023-06-22T23:13:35.139917Z",
     "iopub.status.busy": "2023-06-22T23:13:35.138952Z",
     "iopub.status.idle": "2023-06-22T23:13:35.159745Z",
     "shell.execute_reply": "2023-06-22T23:13:35.158945Z"
    },
    "papermill": {
     "duration": 0.032325,
     "end_time": "2023-06-22T23:13:35.162129",
     "exception": false,
     "start_time": "2023-06-22T23:13:35.129804",
     "status": "completed"
    },
    "tags": []
   },
   "outputs": [],
   "source": [
    "columns = [\n",
    "    pl.col(\"page\").cast(pl.Float32),\n",
    "    (\n",
    "        (pl.col(\"elapsed_time\") - pl.col(\"elapsed_time\").shift(1))\n",
    "        .fill_null(0)\n",
    "        .clip(0, 1e9)\n",
    "        .over([\"session_id\", \"level_group\"])\n",
    "        .alias(\"elapsed_time_diff\")\n",
    "    ),\n",
    "    (\n",
    "        (pl.col(\"screen_coor_x\") - pl.col(\"screen_coor_x\").shift(1))\n",
    "        .abs()\n",
    "        .over([\"session_id\", \"level_group\"])\n",
    "        .alias(\"location_x_diff\")\n",
    "    ),\n",
    "    (\n",
    "        (pl.col(\"screen_coor_y\") - pl.col(\"screen_coor_y\").shift(1))\n",
    "        .abs()\n",
    "        .over([\"session_id\", \"level_group\"])\n",
    "        .alias(\"location_y_diff\")\n",
    "    ),\n",
    "]"
   ]
  },
  {
   "cell_type": "code",
   "execution_count": 9,
   "id": "c62da8e9",
   "metadata": {
    "execution": {
     "iopub.execute_input": "2023-06-22T23:13:35.179096Z",
     "iopub.status.busy": "2023-06-22T23:13:35.178388Z",
     "iopub.status.idle": "2023-06-22T23:14:17.285092Z",
     "shell.execute_reply": "2023-06-22T23:14:17.284242Z"
    },
    "papermill": {
     "duration": 42.118039,
     "end_time": "2023-06-22T23:14:17.287631",
     "exception": false,
     "start_time": "2023-06-22T23:13:35.169592",
     "status": "completed"
    },
    "tags": []
   },
   "outputs": [
    {
     "data": {
      "text/plain": [
       "598"
      ]
     },
     "execution_count": 9,
     "metadata": {},
     "output_type": "execute_result"
    }
   ],
   "source": [
    "# we prepare the dataset for the training by level :\n",
    "df = (\n",
    "    pl.read_csv(\n",
    "        os.path.join(DATA_PATH, \"train.csv\"),\n",
    "    )\n",
    "    .drop([\"fullscreen\", \"hq\", \"music\"])\n",
    "    .with_columns(columns)\n",
    ")\n",
    "\n",
    "\n",
    "texts = list(df[\"text\"].unique())\n",
    "len(texts)"
   ]
  },
  {
   "cell_type": "code",
   "execution_count": 10,
   "id": "32ea1be0",
   "metadata": {
    "execution": {
     "iopub.execute_input": "2023-06-22T23:14:17.486450Z",
     "iopub.status.busy": "2023-06-22T23:14:17.485761Z",
     "iopub.status.idle": "2023-06-22T23:14:17.491004Z",
     "shell.execute_reply": "2023-06-22T23:14:17.490227Z"
    },
    "papermill": {
     "duration": 0.016416,
     "end_time": "2023-06-22T23:14:17.492934",
     "exception": false,
     "start_time": "2023-06-22T23:14:17.476518",
     "status": "completed"
    },
    "tags": []
   },
   "outputs": [
    {
     "name": "stdout",
     "output_type": "stream",
     "text": [
      "question 14, subsample=colsample=0.6\n",
      "question 15, subsample=colsample=0.6\n"
     ]
    }
   ],
   "source": [
    "for p in xgb_params_by_question:\n",
    "    if p in QUESTION_SAMPLE06:\n",
    "        print(f\"question {p}, subsample=colsample=0.6\")\n",
    "        xgb_params_by_question[p][\"params\"][\"colsample_bytree\"] = 0.6\n",
    "        xgb_params_by_question[p][\"params\"][\"subsample\"] = 0.6"
   ]
  },
  {
   "cell_type": "code",
   "execution_count": 11,
   "id": "ad682db6",
   "metadata": {
    "execution": {
     "iopub.execute_input": "2023-06-22T23:14:17.537179Z",
     "iopub.status.busy": "2023-06-22T23:14:17.535859Z",
     "iopub.status.idle": "2023-06-22T23:14:17.605174Z",
     "shell.execute_reply": "2023-06-22T23:14:17.603622Z"
    },
    "papermill": {
     "duration": 0.082145,
     "end_time": "2023-06-22T23:14:17.607814",
     "exception": false,
     "start_time": "2023-06-22T23:14:17.525669",
     "status": "completed"
    },
    "tags": []
   },
   "outputs": [
    {
     "name": "stdout",
     "output_type": "stream",
     "text": [
      "Error loading model: [19:47:31] C:\\buildkite-agent\\builds\\buildkite-windows-cpu-autoscaling-group-i-0cec3277c4d9d0165-1\\xgboost\\xgboost-ci-windows\\dmlc-core\\src\\io\\local_filesys.cc:209: Check failed: allow_null:  LocalFileSystem::Open \"/kaggle/input/models-newfeatures/XGB_question9_model1_fold_0.xgb\": No such file or directory\n"
     ]
    }
   ],
   "source": [
    "clf1 = XGBClassifier()\n",
    "try:\n",
    "    clf1.load_model(f\"/kaggle/input/models-newfeatures/XGB_question{9}_model1_fold_{0}.xgb\")\n",
    "    print(clf1.get_params())\n",
    "except Exception as e:\n",
    "    print(f\"Error loading model: {e}\")\n"
   ]
  },
  {
   "cell_type": "code",
   "execution_count": 12,
   "id": "f61ce0e6",
   "metadata": {
    "execution": {
     "iopub.execute_input": "2023-06-22T23:14:17.626453Z",
     "iopub.status.busy": "2023-06-22T23:14:17.626043Z",
     "iopub.status.idle": "2023-06-22T23:14:17.649978Z",
     "shell.execute_reply": "2023-06-22T23:14:17.648791Z"
    },
    "papermill": {
     "duration": 0.036436,
     "end_time": "2023-06-22T23:14:17.652382",
     "exception": false,
     "start_time": "2023-06-22T23:14:17.615946",
     "status": "completed"
    },
    "tags": []
   },
   "outputs": [
    {
     "name": "stdout",
     "output_type": "stream",
     "text": [
      "Error loading jo_wilder: No module named 'jo_wilder'\n"
     ]
    }
   ],
   "source": [
    "#kaggle library to upload data to the competition\n",
    "# the notebook runs on a Kaggle instance in a process you cannot see, and you also cannot view the data.\n",
    "#to submit the predictionss to kagle competition using kagle specific api\n",
    "try:\n",
    "    import jo_wilder\n",
    "\n",
    "    env = jo_wilder.make_env()\n",
    "    iter_test = env.iter_test()\n",
    "except Exception as e:\n",
    "    print(f\"Error loading jo_wilder: {e}\")"
   ]
  },
  {
   "cell_type": "code",
   "execution_count": 13,
   "id": "ce256250",
   "metadata": {
    "execution": {
     "iopub.execute_input": "2023-06-22T23:14:17.670532Z",
     "iopub.status.busy": "2023-06-22T23:14:17.669884Z",
     "iopub.status.idle": "2023-06-22T23:14:21.075553Z",
     "shell.execute_reply": "2023-06-22T23:14:21.073745Z"
    },
    "papermill": {
     "duration": 3.417462,
     "end_time": "2023-06-22T23:14:21.078078",
     "exception": false,
     "start_time": "2023-06-22T23:14:17.660616",
     "status": "completed"
    },
    "tags": []
   },
   "outputs": [],
   "source": [
    "# CODE TO LOAD MODEL FOR EACH QUESTION\n",
    "KAGGLE_INFERENCE = False \n",
    "if KAGGLE_INFERENCE:\n",
    "    FEATURES_QUESTIONS = {}\n",
    "    models = {}\n",
    "    for t in range(1, 19):\n",
    "        if t not in QUESTIONS_NOT_TRAIN:\n",
    "            models[t] = []\n",
    "            for kfold in range(N_SPLITS):\n",
    "                clf1 = XGBClassifier()\n",
    "                clf1.load_model(f\"/kaggle/input/models-newfeatures/XGB_question{t}_model1_fold_{kfold}.xgb\")\n",
    "                clf2 = XGBClassifier()\n",
    "                clf2.load_model(f\"/kaggle/input/models-newfeatures/XGB_question{t}_model2_fold_{kfold}.xgb\")\n",
    "                models[t].append((clf1, clf2))\n",
    "                print(clf1.get_params())\n",
    "\n",
    "        if t not in QUESTIONS_BASE_FEATURES:\n",
    "            FEATURES_QUESTIONS[t] = []\n",
    "            for kfold in range(N_SPLITS):\n",
    "                if t in QUESTION_NEW_FEATURES:\n",
    "                    print(f\"Question {t}, reading new features\")\n",
    "                    f1 = pd.read_csv(f\"/kaggle/input/features-dict/question_{t}_summary_f0.csv\")\n",
    "                    f2 = pd.read_csv(f\"input/features-dict/question_{t}_summary_f1.csv\")\n",
    "                elif t in QUESTION_NEW_FEATURES_FOLD:\n",
    "                    print(f\"Question {t}, reading new fold features\")\n",
    "                    f1 = pd.read_csv(f\"/kaggle/input/features-dict/question_{t}_fold_{kfold}_f0.csv\")\n",
    "                    f2 = pd.read_csv(f\"input/features-dict/question_{t}_fold_{kfold}_f1.csv\")\n",
    "\n",
    "                if t in QUESTION_NEW_FEATURES_RANDOM:\n",
    "                    print(\"Using random features to cut\")\n",
    "                    prev_feat_1 = len(f1)\n",
    "                    prev_feat_2 = len(f2)\n",
    "                    f1 = list(\n",
    "                        f1.loc[\n",
    "                            (f1.importance > f1.loc[f1.column.str.contains(\"random\")].importance.max())\n",
    "                            & (f1.importance > 0)\n",
    "                        ].column.values\n",
    "                    )\n",
    "                    f2 = list(\n",
    "                        f2.loc[\n",
    "                            (f2.importance > f2.loc[f2.column.str.contains(\"random\")].importance.max())\n",
    "                            & (f2.importance > 0)\n",
    "                        ].column.values\n",
    "                    )\n",
    "                    f1 = [e for e in f1 if not \"random\" in e]\n",
    "                    f2 = [e for e in f2 if not \"random\" in e]\n",
    "                    print(f\"Numero de features: {len(f1)}, {len(f2)} (antes {prev_feat_1}, {prev_feat_2})\")\n",
    "\n",
    "                else:\n",
    "                    prev_feat_1 = len(f1)\n",
    "                    prev_feat_2 = len(f2)\n",
    "                    f1 = list(f1.loc[f1.importance > 0].column.values)\n",
    "                    f2 = list(f2.loc[f2.importance > 0].column.values)\n",
    "                    f1 = [e for e in f1 if not \"random\" in e]\n",
    "                    f2 = [e for e in f2 if not \"random\" in e]\n",
    "                    print(f\"Numero de features: {len(f1)}, {len(f2)} (antes {prev_feat_1}, {prev_feat_2})\")\n",
    "\n",
    "                FEATURES_QUESTIONS[t].append((f1, f2))\n"
   ]
  },
  {
   "cell_type": "code",
   "execution_count": 14,
   "id": "f97685a0",
   "metadata": {
    "execution": {
     "iopub.execute_input": "2023-06-22T23:14:21.100427Z",
     "iopub.status.busy": "2023-06-22T23:14:21.100016Z",
     "iopub.status.idle": "2023-06-22T23:14:29.897502Z",
     "shell.execute_reply": "2023-06-22T23:14:29.896726Z"
    },
    "papermill": {
     "duration": 8.811584,
     "end_time": "2023-06-22T23:14:29.900336",
     "exception": false,
     "start_time": "2023-06-22T23:14:21.088752",
     "status": "completed"
    },
    "tags": []
   },
   "outputs": [],
   "source": [
    "# CODE TO RUN INFERENCE AND APPLYING PREPROCESSING AND USING LOADED MODEL  FOR EACH QUESTION\n",
    "if KAGGLE_INFERENCE:\n",
    "    limits = {\"0-4\": (1, 4), \"5-12\": (4, 14), \"13-22\": (14, 19)}\n",
    "\n",
    "    count = 0\n",
    "    test_prev = None\n",
    "    for test_new, sample_submission in iter_test:\n",
    "        test_new = test_new.sort_values(by=\"elapsed_time\")\n",
    "        sessions = [int(e.split(\"_\")[0]) for e in list(sample_submission.loc[:, \"session_id\"].unique())]\n",
    "        session_id = test_new.session_id.values[0]\n",
    "        grp = test_new.level_group.values[0]\n",
    "        a, b = limits[grp]\n",
    "        test_new = pl.from_pandas(test_new).drop([\"fullscreen\", \"hq\", \"music\"]).with_columns(columns)\n",
    "        if test_prev is None:\n",
    "            test_prev = test_new\n",
    "        else:\n",
    "            test_prev = pl.concat([test_prev, test_new])\n",
    "        del test_new\n",
    "        gc.collect()\n",
    "        test = feature_engineer_pl(\n",
    "            test_prev.filter(pl.col(\"session_id\").is_in(sessions)),\n",
    "            grp,\n",
    "            use_extra=False,\n",
    "            feature_suffix=\"\",\n",
    "            texts=texts,\n",
    "        )\n",
    "        test = test.set_index(\"session_id\")\n",
    "\n",
    "        # ------------------- level 0-4 ---------------------------------\n",
    "\n",
    "        for t in range(a, b):\n",
    "            # print(t)\n",
    "            mask = sample_submission.session_id.str.contains(f\"q{t}\")\n",
    "            sessions = [int(e.split(\"_\")[0]) for e in list(sample_submission.loc[mask, \"session_id\"].values)]\n",
    "            if t not in QUESTIONS_NOT_TRAIN:\n",
    "                FEATURES = features_use_because_of_importances[t]\n",
    "                if t in [3, 12, 13]:\n",
    "                    FEATURES = list(set(FEATURES).intersection(set(test.columns)))\n",
    "                    FEATURES.sort()\n",
    "                    # print(f\"question {t}, sorting features \")\n",
    "                p = None\n",
    "                for kfold in range(N_SPLITS):\n",
    "                    if t in QUESTIONS_BASE_FEATURES:\n",
    "                        # print(f\"Question {t}, using base features\")\n",
    "                        f1 = []\n",
    "                        f2 = []\n",
    "                        for i, f in enumerate(FEATURES):\n",
    "                            if i % 2:\n",
    "                                f1.append(f)\n",
    "                            else:\n",
    "                                f2.append(f)\n",
    "\n",
    "                    else:\n",
    "                        f1, f2 = FEATURES_QUESTIONS[t][kfold]\n",
    "\n",
    "                    clf1 = models[t][kfold][0]\n",
    "                    clf2 = models[t][kfold][1]\n",
    "                    p_aux = (\n",
    "                        clf1.predict_proba(test.loc[sessions, f1].astype(\"float32\"))[:, 1]\n",
    "                        + clf2.predict_proba(test.loc[sessions, f2].astype(\"float32\"))[:, 1]\n",
    "                    )\n",
    "                    p_aux = p_aux / 2\n",
    "                    if p is None:\n",
    "                        p = p_aux\n",
    "                    else:\n",
    "                        p = p + p_aux\n",
    "\n",
    "                p = p / N_SPLITS\n",
    "\n",
    "                P = xgb_params_by_question[t][\"umbral\"]\n",
    "                sample_submission.loc[mask, \"correct\"] = (p > P).astype(int)\n",
    "            elif t in [2, 3, 18, 12]:\n",
    "                sample_submission.loc[mask, \"correct\"] = 1\n",
    "            elif t == 13:\n",
    "                sample_submission.loc[mask, \"correct\"] = 0\n",
    "\n",
    "        env.predict(sample_submission)"
   ]
  }
 ],
 "metadata": {
  "kernelspec": {
   "display_name": "kagle",
   "language": "python",
   "name": "python3"
  },
  "language_info": {
   "codemirror_mode": {
    "name": "ipython",
    "version": 3
   },
   "file_extension": ".py",
   "mimetype": "text/x-python",
   "name": "python",
   "nbconvert_exporter": "python",
   "pygments_lexer": "ipython3",
   "version": "3.8.0"
  },
  "papermill": {
   "default_parameters": {},
   "duration": 114.899232,
   "end_time": "2023-06-22T23:14:31.281870",
   "environment_variables": {},
   "exception": null,
   "input_path": "__notebook__.ipynb",
   "output_path": "__notebook__.ipynb",
   "parameters": {},
   "start_time": "2023-06-22T23:12:36.382638",
   "version": "2.4.0"
  }
 },
 "nbformat": 4,
 "nbformat_minor": 5
}
